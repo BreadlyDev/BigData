{
  "cells": [
    {
      "cell_type": "code",
      "execution_count": 3,
      "id": "62a7aff0-734b-4a00-9223-475b1312f3cd",
      "metadata": {
        "trusted": true
      },
      "outputs": [],
      "source": [
        "from sklearn.model_selection import train_test_split\n",
        "from sklearn.neighbors import KNeighborsRegressor\n",
        "from sklearn.linear_model import LinearRegression, Ridge, Lasso, LogisticRegression\n",
        "from sklearn.datasets import load_diabetes, load_linnerud\n"
      ]
    },
    {
      "cell_type": "code",
      "execution_count": 4,
      "id": "dd38573f-a530-4e26-b7c5-1bba845af1c0",
      "metadata": {
        "trusted": true
      },
      "outputs": [],
      "source": [
        "diabetes = load_diabetes()\n",
        "X_diabetes, y_diabetes = diabetes.data, diabetes.target"
      ]
    },
    {
      "cell_type": "code",
      "execution_count": 5,
      "id": "7f3c92f6-d7c3-4145-9677-316e3fffcc5e",
      "metadata": {
        "trusted": true
      },
      "outputs": [
        {
          "name": "stdout",
          "output_type": "stream",
          "text": [
            "Ключи diabetes: dict_keys(['data', 'target', 'frame', 'DESCR', 'feature_names', 'data_filename', 'target_filename', 'data_module'])\n"
          ]
        }
      ],
      "source": [
        "print(f'Ключи diabetes: {diabetes.keys()}')"
      ]
    },
    {
      "cell_type": "code",
      "execution_count": 6,
      "id": "53642b35-ab35-489d-9177-eb480de874dc",
      "metadata": {
        "trusted": true
      },
      "outputs": [
        {
          "name": "stdout",
          "output_type": "stream",
          "text": [
            "Описание датасета diabetes: .. _diabetes_dataset:\n",
            "\n",
            "Diabetes dataset\n",
            "----------------\n",
            "\n",
            "Ten baseline variables, age, sex, body mass index, average blood\n",
            "pressure, and six blood serum measurements were obtained for each of n =\n",
            "442 diabetes patients, as well as the response of interest, a\n",
            "quantitative measure of disease progression one year after baseline.\n",
            "\n",
            "**Data Set Characteristics:**\n",
            "\n",
            ":Number of Instances: 442\n",
            "\n",
            ":Number of Attributes: First 10 columns are numeric predictive values\n",
            "\n",
            ":Target: Column 11 is a quantitative measure of disease progression one year after baseline\n",
            "\n",
            ":Attribute Information:\n",
            "    - age     age in years\n",
            "    - sex\n",
            "    - bmi     body mass index\n",
            "    - bp      average blood pressure\n",
            "    - s1      tc, total serum cholesterol\n",
            "    - s2      ldl, low-density lipoproteins\n",
            "    - s3      hdl, high-density lipoproteins\n",
            "    - s4      tch, total cholesterol / HDL\n",
            "    - s5      ltg, possibly log of serum triglycerides level\n",
            "    - s6      glu, blood sugar level\n",
            "\n",
            "Note: Each of these 10 feature variables have been mean centered and scaled by the standard deviation times the square root of `n_samples` (i.e. the sum of squares of each column totals 1).\n",
            "\n",
            "Source URL:\n",
            "https://www4.stat.ncsu.edu/~boos/var.select/diabetes.html\n",
            "\n",
            "For more information see:\n",
            "Bradley Efron, Trevor Hastie, Iain Johnstone and Robert Tibshirani (2004) \"Least Angle Regression,\" Annals of Statistics (with discussion), 407-499.\n",
            "(https://web.stanford.edu/~hastie/Papers/LARS/LeastAngle_2002.pdf)\n",
            "\n"
          ]
        }
      ],
      "source": [
        "print(f'Описание датасета diabetes: {diabetes.DESCR}')"
      ]
    },
    {
      "cell_type": "code",
      "execution_count": 7,
      "id": "594e7bff-5e0d-4bbd-b4a7-13de2d95fe0d",
      "metadata": {
        "trusted": true
      },
      "outputs": [
        {
          "name": "stdout",
          "output_type": "stream",
          "text": [
            "Названия признаков diabetes: ['age', 'sex', 'bmi', 'bp', 's1', 's2', 's3', 's4', 's5', 's6']\n"
          ]
        }
      ],
      "source": [
        "print(f'Названия признаков diabetes: {diabetes.feature_names}')"
      ]
    },
    {
      "cell_type": "code",
      "execution_count": 8,
      "id": "354053df-982c-440d-85a5-6674797ecf0a",
      "metadata": {
        "trusted": true
      },
      "outputs": [
        {
          "name": "stdout",
          "output_type": "stream",
          "text": [
            "Данные diabetes: [[ 0.03807591  0.05068012  0.06169621  0.02187239 -0.0442235  -0.03482076\n",
            "  -0.04340085 -0.00259226  0.01990749 -0.01764613]\n",
            " [-0.00188202 -0.04464164 -0.05147406 -0.02632753 -0.00844872 -0.01916334\n",
            "   0.07441156 -0.03949338 -0.06833155 -0.09220405]\n",
            " [ 0.08529891  0.05068012  0.04445121 -0.00567042 -0.04559945 -0.03419447\n",
            "  -0.03235593 -0.00259226  0.00286131 -0.02593034]\n",
            " [-0.08906294 -0.04464164 -0.01159501 -0.03665608  0.01219057  0.02499059\n",
            "  -0.03603757  0.03430886  0.02268774 -0.00936191]\n",
            " [ 0.00538306 -0.04464164 -0.03638469  0.02187239  0.00393485  0.01559614\n",
            "   0.00814208 -0.00259226 -0.03198764 -0.04664087]]\n"
          ]
        }
      ],
      "source": [
        "print(f'Данные diabetes: {diabetes.data[:5]}')"
      ]
    },
    {
      "cell_type": "code",
      "execution_count": 9,
      "id": "a7a4a505-fabf-42db-aedd-5cf8edc6419d",
      "metadata": {
        "trusted": true
      },
      "outputs": [
        {
          "name": "stdout",
          "output_type": "stream",
          "text": [
            "Ответы diabetes: [151.  75. 141. 206. 135.]\n"
          ]
        }
      ],
      "source": [
        "print(f'Ответы diabetes: {diabetes.target[:5]}')"
      ]
    },
    {
      "cell_type": "code",
      "execution_count": 17,
      "id": "717b7d09-8535-48b9-9897-dc1b64a6e882",
      "metadata": {
        "trusted": true
      },
      "outputs": [
        {
          "name": "stdout",
          "output_type": "stream",
          "text": [
            "Датасет diabetes:\n",
            "----------------------------------------------------------------------------------------------------\n",
            "\n",
            "Точность для KNeighborsRegressor:\n",
            "n_neighbours = 1:  -0.042846994071650935\n",
            "n_neighbours = 3:  0.3213026740575181\n",
            "n_neighbours = 5:  0.4031244536507893\n",
            "n_neighbours = 7:  0.40059131762978506\n",
            "n_neighbours = 10:  0.41528315113018477\n",
            "\n",
            "Лучшая точность = 0.41528315113018477 при n = 10\n",
            "\n",
            "----------------------------------------------------------------------------------------------------\n",
            "Точность для Ridge:\n",
            "alpha = 0.1:  0.4803183845636724\n",
            "alpha = 1.0:  0.4233440269603015\n",
            "alpha = 10.0:  0.15156589965831158\n",
            "\n",
            "Лучшая точность = 0.4803183845636724 при alpha = 0.1\n",
            "\n",
            "----------------------------------------------------------------------------------------------------\n",
            "Точность для Lasso:\n",
            "alpha = 0.01:  0.47871428812904404\n",
            "alpha = 0.1:  0.4859194402036221\n",
            "alpha = 1.0:  0.361898028619579\n",
            "alpha = 10.0:  -0.006405449804164132\n",
            "\n",
            "Лучшая точность = 0.4859194402036221 при alpha = 0.1\n",
            "\n",
            "----------------------------------------------------------------------------------------------------\n",
            "Точность для LogisticRegression:\n",
            "C = 0.01:  0.007518796992481203\n",
            "C = 0.1:  0.007518796992481203\n",
            "C = 1.0:  0.007518796992481203\n",
            "C = 10.0:  0.0\n",
            "C = 100.0:  0.015037593984962405\n",
            "\n",
            "Лучшая точность = 0.015037593984962405 при C = 100.0\n",
            "\n",
            "----------------------------------------------------------------------------------------------------\n",
            "Точность для LinearRegression: 0.47728971643226137\n"
          ]
        }
      ],
      "source": [
        "X_train, X_test, y_train, y_test = train_test_split(X_diabetes, y_diabetes, test_size=0.3, random_state=42)\n",
        "print('Датасет diabetes:')\n",
        "print('-' * 100)\n",
        "print()\n",
        "\n",
        "res = [0, -10000]\n",
        "\n",
        "print('Точность для KNeighborsRegressor:')\n",
        "for n in [1, 3, 5, 7, 10]:\n",
        "    knn_regressor = KNeighborsRegressor(n_neighbors=n)\n",
        "    knn_regressor.fit(X_train, y_train)\n",
        "    score = knn_regressor.score(X_test, y_test)\n",
        "    print(f'n_neighbours = {n}: ', score)\n",
        "    if score > res[1]:\n",
        "        res[0], res[1] = n, score\n",
        "\n",
        "print(f'\\nЛучшая точность = {res[1]} при n = {res[0]}\\n')\n",
        "print('-' * 100)\n",
        "\n",
        "res = [0, -10000]\n",
        "print('Точность для Ridge:')\n",
        "for n in [0.1, 1.0, 10.0]:\n",
        "    ridge_regressor = Ridge(alpha=n)\n",
        "    ridge_regressor.fit(X_train, y_train)\n",
        "    score = ridge_regressor.score(X_test, y_test)\n",
        "    print(f'alpha = {n}: ', score)\n",
        "    if score > res[1]:\n",
        "        res[0], res[1] = n, score\n",
        "\n",
        "print(f'\\nЛучшая точность = {res[1]} при alpha = {res[0]}\\n')\n",
        "print('-' * 100)\n",
        "\n",
        "res = [0, -10000]\n",
        "print('Точность для Lasso:')\n",
        "for n in [0.01, 0.1, 1.0, 10.0]:\n",
        "    lasso_regressor = Lasso(alpha=n)\n",
        "    lasso_regressor.fit(X_train, y_train)\n",
        "    score = lasso_regressor.score(X_test, y_test)\n",
        "    print(f'alpha = {n}: ', score)\n",
        "    if score > res[1]:\n",
        "        res[0], res[1] = n, score\n",
        "\n",
        "print(f'\\nЛучшая точность = {res[1]} при alpha = {res[0]}\\n')\n",
        "print('-' * 100)\n",
        "\n",
        "res = [0, -10000]\n",
        "print('Точность для LogisticRegression:')\n",
        "for n in [0.01, 0.1, 1.0, 10.0, 100.0]:\n",
        "    logreg = LogisticRegression(C=n, max_iter=10000)\n",
        "    logreg.fit(X_train, y_train)\n",
        "    score = logreg.score(X_test, y_test)\n",
        "    print(f'C = {n}: ', score)\n",
        "    if score > res[1]:\n",
        "        res[0], res[1] = n, score\n",
        "\n",
        "print(f'\\nЛучшая точность = {res[1]} при C = {res[0]}\\n')\n",
        "print('-' * 100)\n",
        "\n",
        "linreg = LinearRegression()\n",
        "linreg.fit(X_train, y_train)\n",
        "print('Точность для LinearRegression:', linreg.score(X_test, y_test))"
      ]
    },
    {
      "cell_type": "code",
      "execution_count": 13,
      "id": "0c44c23b-faa7-4776-ac56-86285b6679c2",
      "metadata": {
        "trusted": true
      },
      "outputs": [],
      "source": [
        "linnerud = load_linnerud()\n",
        "X_linnerud, y_linnerud = linnerud.data, linnerud.target"
      ]
    },
    {
      "cell_type": "code",
      "execution_count": 14,
      "id": "86c428b5-1efa-4221-93b1-13114e5f70db",
      "metadata": {
        "trusted": true
      },
      "outputs": [
        {
          "name": "stdout",
          "output_type": "stream",
          "text": [
            "Ключи linnerud: dict_keys(['data', 'feature_names', 'target', 'target_names', 'frame', 'DESCR', 'data_filename', 'target_filename', 'data_module'])\n"
          ]
        }
      ],
      "source": [
        "print(f'Ключи linnerud: {linnerud.keys()}')"
      ]
    },
    {
      "cell_type": "code",
      "execution_count": 55,
      "id": "2a7cb809-c8c9-4933-a49b-488bd7143917",
      "metadata": {
        "trusted": true
      },
      "outputs": [
        {
          "name": "stdout",
          "output_type": "stream",
          "text": [
            "Описание датасета linnerud: .. _linnerrud_dataset:\n",
            "\n",
            "Linnerrud dataset\n",
            "-----------------\n",
            "\n",
            "**Data Set Characteristics:**\n",
            "\n",
            ":Number of Instances: 20\n",
            ":Number of Attributes: 3\n",
            ":Missing Attribute Values: None\n",
            "\n",
            "The Linnerud dataset is a multi-output regression dataset. It consists of three\n",
            "exercise (data) and three physiological (target) variables collected from\n",
            "twenty middle-aged men in a fitness club:\n",
            "\n",
            "- *physiological* - CSV containing 20 observations on 3 physiological variables:\n",
            "   Weight, Waist and Pulse.\n",
            "- *exercise* - CSV containing 20 observations on 3 exercise variables:\n",
            "   Chins, Situps and Jumps.\n",
            "\n",
            "|details-start|\n",
            "**References**\n",
            "|details-split|\n",
            "\n",
            "* Tenenhaus, M. (1998). La regression PLS: theorie et pratique. Paris:\n",
            "  Editions Technic.\n",
            "\n",
            "|details-end|\n",
            "\n"
          ]
        }
      ],
      "source": [
        "print(f'Описание датасета linnerud: {linnerud.DESCR}')"
      ]
    },
    {
      "cell_type": "code",
      "execution_count": 57,
      "id": "95f91728-9d65-4d5f-8323-7f6ca1ea1847",
      "metadata": {
        "trusted": true
      },
      "outputs": [
        {
          "name": "stdout",
          "output_type": "stream",
          "text": [
            "Названия признаков linnerud: ['Chins', 'Situps', 'Jumps']\n"
          ]
        }
      ],
      "source": [
        "print(f'Названия признаков linnerud: {linnerud.feature_names}')"
      ]
    },
    {
      "cell_type": "code",
      "execution_count": 58,
      "id": "1a1be335-2dee-4544-bc76-8f597a90b2bd",
      "metadata": {
        "trusted": true
      },
      "outputs": [
        {
          "name": "stdout",
          "output_type": "stream",
          "text": [
            "Данные linnerud: [[  5. 162.  60.]\n",
            " [  2. 110.  60.]\n",
            " [ 12. 101. 101.]\n",
            " [ 12. 105.  37.]\n",
            " [ 13. 155.  58.]]\n"
          ]
        }
      ],
      "source": [
        "print(f'Данные linnerud: {linnerud.data[:5]}')"
      ]
    },
    {
      "cell_type": "code",
      "execution_count": 60,
      "id": "9cacdbf8-f207-4fd7-8e6a-d8db8033407b",
      "metadata": {
        "trusted": true
      },
      "outputs": [
        {
          "name": "stdout",
          "output_type": "stream",
          "text": [
            "Данные linnerud: [[191.  36.  50.]\n",
            " [189.  37.  52.]\n",
            " [193.  38.  58.]\n",
            " [162.  35.  62.]\n",
            " [189.  35.  46.]]\n"
          ]
        }
      ],
      "source": [
        "print(f'Данные linnerud: {linnerud.target[:5]}')"
      ]
    },
    {
      "cell_type": "code",
      "execution_count": 28,
      "id": "3fe294c4-d6db-4a81-bcc0-a2edf26aa883",
      "metadata": {
        "trusted": true
      },
      "outputs": [
        {
          "name": "stdout",
          "output_type": "stream",
          "text": [
            "Датасет linnerud:\n",
            "----------------------------------------------------------------------------------------------------\n",
            "\n",
            "Точность для KNeighborsRegressor:\n",
            "n_neighbours = 1:  -1.4752231940086948\n",
            "n_neighbours = 3:  -0.493222205958987\n",
            "n_neighbours = 5:  -0.33389753516931914\n",
            "n_neighbours = 7:  -0.10825251652759438\n",
            "n_neighbours = 10:  -0.193287254633246\n",
            "\n",
            "Лучшая точность = -0.10825251652759438 при n = 7\n",
            "\n",
            "----------------------------------------------------------------------------------------------------\n",
            "Точность для Ridge:\n",
            "alpha = 0.1:  -0.6774658115138991\n",
            "alpha = 1.0:  -0.6763909533736504\n",
            "alpha = 10.0:  -0.6663392480852324\n",
            "\n",
            "Лучшая точность = -0.6663392480852324 при alpha = 10.0\n",
            "\n",
            "----------------------------------------------------------------------------------------------------\n",
            "Точность для Lasso\n",
            "alpha = 0.01:  -0.6773581999234755\n",
            "alpha = 0.1:  -0.6754642608236033\n",
            "alpha = 1.0:  -0.6638935667244193\n",
            "alpha = 10.0:  -0.49780293979358325\n",
            "\n",
            "Лучшая точность = -0.49780293979358325 при alpha = 10.0\n",
            "\n",
            "----------------------------------------------------------------------------------------------------\n",
            "Точность для LogisticRegression\n",
            "C = 0.01:  0.0\n",
            "C = 0.1:  0.0\n",
            "C = 1.0:  0.0\n",
            "C = 10.0:  0.0\n",
            "C = 100.0:  0.0\n",
            "\n",
            "Лучшая точность = 0.0 при C = 0.01\n",
            "\n",
            "----------------------------------------------------------------------------------------------------\n",
            "Точность для LinearRegression: -0.6775860782904198\n"
          ]
        }
      ],
      "source": [
        "X_train2, X_test2, y_train2, y_test2 = train_test_split(X_linnerud, y_linnerud, test_size=0.3, random_state=42)\n",
        "print('Датасет linnerud:')\n",
        "print(\"-\" * 100)\n",
        "print()\n",
        "res = [0, -10000]\n",
        "\n",
        "print(\"Точность для KNeighborsRegressor:\")\n",
        "for n in [1, 3, 5, 7, 10]:\n",
        "    knn_regressor = KNeighborsRegressor(n_neighbors=n)\n",
        "    knn_regressor.fit(X_train2, y_train2)\n",
        "    score = knn_regressor.score(X_test2, y_test2)\n",
        "    print(f\"n_neighbours = {n}: \", score)\n",
        "    if score > res[1]:\n",
        "        res[0], res[1] = n, score\n",
        "\n",
        "print(f\"\\nЛучшая точность = {res[1]} при n = {res[0]}\\n\")\n",
        "print(\"-\" * 100)\n",
        "\n",
        "res = [0, -10000]\n",
        "print(\"Точность для Ridge:\")\n",
        "for n in [0.1, 1.0, 10.0]:\n",
        "    ridge_regressor = Ridge(alpha=n)\n",
        "    ridge_regressor.fit(X_train2, y_train2)\n",
        "    score = ridge_regressor.score(X_test2, y_test2)\n",
        "    print(f\"alpha = {n}: \", score)\n",
        "    if score > res[1]:\n",
        "        res[0], res[1] = n, score\n",
        "\n",
        "print(f\"\\nЛучшая точность = {res[1]} при alpha = {res[0]}\\n\")\n",
        "print(\"-\" * 100)\n",
        "\n",
        "res = [0, -10000]\n",
        "print(\"Точность для Lasso\")\n",
        "for n in [0.01, 0.1, 1.0, 10.0]:\n",
        "    lasso_regressor = Lasso(alpha=n)\n",
        "    lasso_regressor.fit(X_train2, y_train2)\n",
        "    score = lasso_regressor.score(X_test2, y_test2)\n",
        "    print(f\"alpha = {n}: \", score)\n",
        "    if score > res[1]:\n",
        "        res[0], res[1] = n, score\n",
        "\n",
        "print(f\"\\nЛучшая точность = {res[1]} при alpha = {res[0]}\\n\")\n",
        "print(\"-\" * 100)\n",
        "\n",
        "res = [0, -10000]\n",
        "print(\"Точность для LogisticRegression\")\n",
        "for n in [0.01, 0.1, 1.0, 10.0, 100.0]:\n",
        "    logreg = LogisticRegression(C=n, solver='liblinear', max_iter=1000)\n",
        "    logreg.fit(X_train2, y_train2[:, 0])\n",
        "    score = logreg.score(X_test2, y_test2[:, 0])\n",
        "    print(f\"C = {n}: \", score)\n",
        "    if score > res[1]:\n",
        "        res[0], res[1] = n, score\n",
        "print(f\"\\nЛучшая точность = {res[1]} при C = {res[0]}\\n\")\n",
        "print(\"-\" * 100)\n",
        "\n",
        "\n",
        "linreg = LinearRegression()\n",
        "linreg.fit(X_train2, y_train2)\n",
        "print(\"Точность для LinearRegression:\", linreg.score(X_test2, y_test2))"
      ]
    },
    {
      "cell_type": "markdown",
      "id": "fcc6552d-0b70-4758-86fc-fcb56daee748",
      "metadata": {
        "trusted": true
      },
      "source": [
        "\n",
        "## Выводы\n",
        "В результате выполнения данной работы были получены такие результаты:\n",
        "\n",
        "**1. Для датасета diabetes:** \n",
        "Лучшей моделью с наибольшей точностью оказалась модель Lasso со значением alpha=0.1. \n",
        "\n",
        "Далее по порядку следуют Ridge, LinearRegression и KNN. \n",
        "\n",
        "Наихудший результат показала модель LogisticRegression. \n",
        "Скорее всего из-за того что она предназначена для задач классификации, тогда как датасет diabetes больше подходит для регресссионных моделей.\n",
        "\n",
        "**2 Для датасета linnerud:** \n",
        "Все регрессионные модели выдали отрицательные значения метрики R2. Это значит что они не подходят для обучения на данном датасете. \n",
        "Но среди них лучше справилась модель KNN. \n",
        "Логистическая регрессия показала результат 0. Это значит что она также не подходит для датасета linnerud.\n"
      ]
    }
  ],
  "metadata": {
    "kernelspec": {
      "display_name": "Python (Pyodide)",
      "language": "python",
      "name": "python"
    },
    "language_info": {
      "codemirror_mode": {
        "name": "python",
        "version": 3
      },
      "file_extension": ".py",
      "mimetype": "text/x-python",
      "name": "python",
      "nbconvert_exporter": "python",
      "pygments_lexer": "ipython3",
      "version": "3.8"
    }
  },
  "nbformat": 4,
  "nbformat_minor": 5
}
