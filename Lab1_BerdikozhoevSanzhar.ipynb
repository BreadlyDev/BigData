{
 "cells": [
  {
   "cell_type": "code",
   "execution_count": 13,
   "metadata": {},
   "outputs": [
    {
     "name": "stdout",
     "output_type": "stream",
     "text": [
      "good bye\n"
     ]
    }
   ],
   "source": [
    "print('good bye')"
   ]
  },
  {
   "cell_type": "code",
   "execution_count": 14,
   "metadata": {},
   "outputs": [],
   "source": [
    "j = 4"
   ]
  },
  {
   "cell_type": "code",
   "execution_count": 15,
   "metadata": {},
   "outputs": [
    {
     "name": "stdout",
     "output_type": "stream",
     "text": [
      "4\n"
     ]
    }
   ],
   "source": [
    "print(j)"
   ]
  },
  {
   "cell_type": "code",
   "execution_count": 16,
   "metadata": {},
   "outputs": [
    {
     "name": "stdout",
     "output_type": "stream",
     "text": [
      "7\n"
     ]
    }
   ],
   "source": [
    "a = j + 3\n",
    "print(a)"
   ]
  },
  {
   "cell_type": "raw",
   "metadata": {
    "vscode": {
     "languageId": "raw"
    }
   },
   "source": [
    "# Raw NBConvert\n",
    "32 + 67 "
   ]
  },
  {
   "cell_type": "markdown",
   "metadata": {},
   "source": [
    "# Getting start with Jupyter Python\n",
    "\n",
    "## We have done\n",
    "* Install [Python](https://www.python.org/downloads/) 3.12\n",
    "* Install Jupyter Python in PyCharm"
   ]
  },
  {
   "cell_type": "code",
   "execution_count": 19,
   "metadata": {},
   "outputs": [
    {
     "name": "stdout",
     "output_type": "stream",
     "text": [
      "<class 'int'>\n"
     ]
    }
   ],
   "source": [
    "b = 9 \n",
    "t = type(b)\n",
    "print(t)"
   ]
  },
  {
   "cell_type": "code",
   "execution_count": 22,
   "metadata": {},
   "outputs": [],
   "source": [
    "i = 7"
   ]
  },
  {
   "cell_type": "code",
   "execution_count": 21,
   "metadata": {},
   "outputs": [
    {
     "data": {
      "text/plain": [
       "int"
      ]
     },
     "execution_count": 21,
     "metadata": {},
     "output_type": "execute_result"
    }
   ],
   "source": [
    "type(i)"
   ]
  },
  {
   "cell_type": "code",
   "execution_count": 23,
   "metadata": {},
   "outputs": [],
   "source": [
    "f = 6.8"
   ]
  },
  {
   "cell_type": "code",
   "execution_count": 24,
   "metadata": {},
   "outputs": [
    {
     "data": {
      "text/plain": [
       "float"
      ]
     },
     "execution_count": 24,
     "metadata": {},
     "output_type": "execute_result"
    }
   ],
   "source": [
    "type(f)"
   ]
  },
  {
   "cell_type": "code",
   "execution_count": 26,
   "metadata": {},
   "outputs": [],
   "source": [
    "b = False"
   ]
  },
  {
   "cell_type": "code",
   "execution_count": 27,
   "metadata": {},
   "outputs": [
    {
     "data": {
      "text/plain": [
       "bool"
      ]
     },
     "execution_count": 27,
     "metadata": {},
     "output_type": "execute_result"
    }
   ],
   "source": [
    "type(b)"
   ]
  },
  {
   "cell_type": "code",
   "execution_count": 28,
   "metadata": {},
   "outputs": [],
   "source": [
    "s = 'Is it a string?'"
   ]
  },
  {
   "cell_type": "code",
   "execution_count": 29,
   "metadata": {},
   "outputs": [
    {
     "data": {
      "text/plain": [
       "str"
      ]
     },
     "execution_count": 29,
     "metadata": {},
     "output_type": "execute_result"
    }
   ],
   "source": [
    "type(s)"
   ]
  },
  {
   "cell_type": "code",
   "execution_count": 30,
   "metadata": {},
   "outputs": [
    {
     "name": "stdout",
     "output_type": "stream",
     "text": [
      "Is it a string?\n"
     ]
    }
   ],
   "source": [
    "print(s)"
   ]
  },
  {
   "cell_type": "code",
   "execution_count": 31,
   "metadata": {},
   "outputs": [],
   "source": [
    "l = [1, 2, 3]"
   ]
  },
  {
   "cell_type": "code",
   "execution_count": 32,
   "metadata": {},
   "outputs": [
    {
     "name": "stdout",
     "output_type": "stream",
     "text": [
      "[1, 2, 3]\n"
     ]
    }
   ],
   "source": [
    "print(l)"
   ]
  },
  {
   "cell_type": "code",
   "execution_count": 43,
   "metadata": {},
   "outputs": [],
   "source": [
    "d = {\n",
    "    'key': 'value',\n",
    "    'zero': 1,\n",
    "    False: 'Hash Map?'\n",
    "}"
   ]
  },
  {
   "cell_type": "code",
   "execution_count": 44,
   "metadata": {},
   "outputs": [
    {
     "name": "stdout",
     "output_type": "stream",
     "text": [
      "{'key': 'value', 'zero': 1, False: 'Hash Map?'}\n"
     ]
    }
   ],
   "source": [
    "print(d)"
   ]
  },
  {
   "cell_type": "code",
   "execution_count": 45,
   "metadata": {},
   "outputs": [
    {
     "name": "stdout",
     "output_type": "stream",
     "text": [
      "value\n"
     ]
    }
   ],
   "source": [
    "print(d['key'])"
   ]
  },
  {
   "cell_type": "code",
   "execution_count": 46,
   "metadata": {},
   "outputs": [],
   "source": [
    "n = None"
   ]
  },
  {
   "cell_type": "code",
   "execution_count": 47,
   "metadata": {},
   "outputs": [
    {
     "data": {
      "text/plain": [
       "NoneType"
      ]
     },
     "execution_count": 47,
     "metadata": {},
     "output_type": "execute_result"
    }
   ],
   "source": [
    "type(n)"
   ]
  },
  {
   "cell_type": "code",
   "execution_count": 49,
   "metadata": {},
   "outputs": [
    {
     "name": "stdout",
     "output_type": "stream",
     "text": [
      "Возведение двойки в десятую степень 1024.0\n"
     ]
    }
   ],
   "source": [
    "import math\n",
    "p = math.pow(2, 10)\n",
    "print('Возведение двойки в десятую степень', p)"
   ]
  },
  {
   "cell_type": "code",
   "execution_count": 53,
   "metadata": {},
   "outputs": [
    {
     "name": "stdout",
     "output_type": "stream",
     "text": [
      "Наше первое значение 8, а второе True\n"
     ]
    }
   ],
   "source": [
    "j = 8\n",
    "b = True\n",
    "print('Наше первое значение %s, а второе %s' %(j, b))"
   ]
  },
  {
   "cell_type": "code",
   "execution_count": 54,
   "metadata": {},
   "outputs": [
    {
     "name": "stdout",
     "output_type": "stream",
     "text": [
      "Значение i больше 9, а f больше единицы\n"
     ]
    }
   ],
   "source": [
    "i = 2\n",
    "f = 2.3\n",
    "if i == 6 and f < 3:\n",
    "    print('Значение i равно 6, а f меньше трех')\n",
    "elif i > 9 or f > 1:\n",
    "    print('Значение i больше 9, а f больше единицы')\n",
    "else:\n",
    "    print('Ни одно из условий не сработало')"
   ]
  },
  {
   "cell_type": "code",
   "execution_count": 55,
   "metadata": {},
   "outputs": [
    {
     "name": "stdout",
     "output_type": "stream",
     "text": [
      "[1, 2, 3]\n"
     ]
    }
   ],
   "source": [
    "l = [1, 2, 3]\n",
    "print(l)"
   ]
  },
  {
   "cell_type": "code",
   "execution_count": 56,
   "metadata": {},
   "outputs": [
    {
     "name": "stdout",
     "output_type": "stream",
     "text": [
      "1\n",
      "2\n",
      "3\n"
     ]
    }
   ],
   "source": [
    "for e in l:\n",
    "    print(e)"
   ]
  },
  {
   "cell_type": "code",
   "execution_count": 57,
   "metadata": {},
   "outputs": [
    {
     "name": "stdout",
     "output_type": "stream",
     "text": [
      "Числа от 0 до 50:  0\n",
      "Числа от 0 до 50:  1\n",
      "Числа от 0 до 50:  2\n",
      "Числа от 0 до 50:  3\n",
      "Числа от 0 до 50:  4\n",
      "Числа от 0 до 50:  5\n",
      "Числа от 0 до 50:  6\n",
      "Числа от 0 до 50:  7\n",
      "Числа от 0 до 50:  8\n",
      "Числа от 0 до 50:  9\n",
      "Числа от 0 до 50:  10\n",
      "Числа от 0 до 50:  11\n",
      "Числа от 0 до 50:  12\n",
      "Числа от 0 до 50:  13\n",
      "Числа от 0 до 50:  14\n",
      "Числа от 0 до 50:  15\n",
      "Числа от 0 до 50:  16\n",
      "Числа от 0 до 50:  17\n",
      "Числа от 0 до 50:  18\n",
      "Числа от 0 до 50:  19\n",
      "Числа от 0 до 50:  20\n",
      "Числа от 0 до 50:  21\n",
      "Числа от 0 до 50:  22\n",
      "Числа от 0 до 50:  23\n",
      "Числа от 0 до 50:  24\n",
      "Числа от 0 до 50:  25\n",
      "Числа от 0 до 50:  26\n",
      "Числа от 0 до 50:  27\n",
      "Числа от 0 до 50:  28\n",
      "Числа от 0 до 50:  29\n",
      "Числа от 0 до 50:  30\n",
      "Числа от 0 до 50:  31\n",
      "Числа от 0 до 50:  32\n",
      "Числа от 0 до 50:  33\n",
      "Числа от 0 до 50:  34\n",
      "Числа от 0 до 50:  35\n",
      "Числа от 0 до 50:  36\n",
      "Числа от 0 до 50:  37\n",
      "Числа от 0 до 50:  38\n",
      "Числа от 0 до 50:  39\n",
      "Числа от 0 до 50:  40\n",
      "Числа от 0 до 50:  41\n",
      "Числа от 0 до 50:  42\n",
      "Числа от 0 до 50:  43\n",
      "Числа от 0 до 50:  44\n",
      "Числа от 0 до 50:  45\n",
      "Числа от 0 до 50:  46\n",
      "Числа от 0 до 50:  47\n",
      "Числа от 0 до 50:  48\n",
      "Числа от 0 до 50:  49\n"
     ]
    }
   ],
   "source": [
    "for n in range(50):\n",
    "    print('Числа от 0 до 50: ', n)"
   ]
  },
  {
   "cell_type": "code",
   "execution_count": 58,
   "metadata": {},
   "outputs": [
    {
     "name": "stdout",
     "output_type": "stream",
     "text": [
      "Число: 0\n",
      "Число: 1\n",
      "Число: 2\n",
      "Число: 3\n",
      "Число: 4\n",
      "Число: 5\n",
      "Число: 6\n",
      "Число: 7\n",
      "Число: 8\n",
      "Число: 9\n",
      "Число: 10\n",
      "Число: 11\n",
      "Число: 12\n",
      "Число: 13\n",
      "Число: 14\n",
      "Число: 15\n",
      "Число: 16\n",
      "Число: 17\n",
      "Число: 18\n",
      "Число: 19\n",
      "Число: 20\n",
      "Число: 21\n",
      "Число: 22\n",
      "Число: 23\n",
      "Число: 24\n",
      "Число: 25\n",
      "Число: 26\n",
      "Число: 27\n",
      "Число: 28\n",
      "Число: 29\n",
      "Число: 30\n",
      "Число: 31\n",
      "Число: 32\n",
      "Число: 33\n",
      "Число: 34\n",
      "Число: 35\n",
      "Число: 36\n",
      "Число: 37\n",
      "Число: 38\n",
      "Число: 39\n",
      "Число: 40\n",
      "Число: 41\n",
      "Число: 42\n",
      "Число: 43\n",
      "Число: 44\n",
      "Число: 45\n",
      "Число: 46\n",
      "Число: 47\n",
      "Число: 48\n",
      "Число: 49\n"
     ]
    }
   ],
   "source": [
    "import time\n",
    "for n in range(50):\n",
    "    time.sleep(1)\n",
    "    print('Число:', n)"
   ]
  },
  {
   "cell_type": "code",
   "execution_count": 60,
   "metadata": {},
   "outputs": [
    {
     "name": "stdout",
     "output_type": "stream",
     "text": [
      "5\n",
      "6\n",
      "7\n",
      "8\n",
      "9\n",
      "10\n",
      "11\n"
     ]
    }
   ],
   "source": [
    "count = 5\n",
    "while count < 12:\n",
    "    print(count)\n",
    "    count += 1"
   ]
  },
  {
   "cell_type": "code",
   "execution_count": 61,
   "metadata": {},
   "outputs": [],
   "source": [
    "def add_five(x):\n",
    "    y = x + 5\n",
    "    return y"
   ]
  },
  {
   "cell_type": "code",
   "execution_count": 62,
   "metadata": {},
   "outputs": [],
   "source": [
    "i = 3"
   ]
  },
  {
   "cell_type": "code",
   "execution_count": 63,
   "metadata": {},
   "outputs": [
    {
     "data": {
      "text/plain": [
       "8"
      ]
     },
     "execution_count": 63,
     "metadata": {},
     "output_type": "execute_result"
    }
   ],
   "source": [
    "add_five(i)"
   ]
  },
  {
   "cell_type": "code",
   "execution_count": 64,
   "metadata": {},
   "outputs": [],
   "source": [
    "cube = lambda x: x ** 3"
   ]
  },
  {
   "cell_type": "code",
   "execution_count": 65,
   "metadata": {},
   "outputs": [
    {
     "data": {
      "text/plain": [
       "64"
      ]
     },
     "execution_count": 65,
     "metadata": {},
     "output_type": "execute_result"
    }
   ],
   "source": [
    "cube(4)"
   ]
  },
  {
   "cell_type": "code",
   "execution_count": 66,
   "metadata": {},
   "outputs": [
    {
     "name": "stdout",
     "output_type": "stream",
     "text": [
      "14\n"
     ]
    }
   ],
   "source": [
    "func = lambda a, b: a * b\n",
    "print(func(2, 7))"
   ]
  },
  {
   "cell_type": "code",
   "execution_count": 67,
   "metadata": {},
   "outputs": [
    {
     "name": "stdout",
     "output_type": "stream",
     "text": [
      "15\n"
     ]
    }
   ],
   "source": [
    "fun = lambda x, y, z: x + y + z\n",
    "print(fun(5, 3, 7))"
   ]
  },
  {
   "cell_type": "markdown",
   "metadata": {
    "vscode": {
     "languageId": "html"
    }
   },
   "source": [
    "<h1> Заголовок 1 </h1>\n",
    "<h2> Заголовок 2 </h2>\n",
    "<h3> Заголовок 3 </h3>\n",
    "<h4> Заголовок 4 </h4>\n",
    "<h5> Заголовок 5 </h5>\n",
    "<h6> Заголовок 6 </h6>"
   ]
  },
  {
   "cell_type": "markdown",
   "metadata": {},
   "source": [
    "<img src='C:\\Users\\Maibenben\\Downloads\\Logo.png' height='900' width='900'>"
   ]
  },
  {
   "cell_type": "markdown",
   "metadata": {},
   "source": [
    "\\begin{equation*}\n",
    "\\left(sum_{k=1}^n a_k b_k\\right)^2\n",
    "\\end{equation*}"
   ]
  },
  {
   "cell_type": "markdown",
   "metadata": {},
   "source": [
    "\\begin{equation*}\n",
    "E=mc^2\n",
    "\\end{equation*}"
   ]
  },
  {
   "cell_type": "code",
   "execution_count": 73,
   "metadata": {
    "vscode": {
     "languageId": "bat"
    }
   },
   "outputs": [
    {
     "name": "stdout",
     "output_type": "stream",
     "text": [
      "\n",
      "����ன�� ��⮪��� IP ��� Windows\n",
      "\n",
      "\n",
      "������ Ethernet Ethernet:\n",
      "\n",
      "   DNS-���䨪� ������祭�� . . . . . : \n",
      "   ������� IPv6-���� ������ . . . : fe80::444d:e373:bf4f:234c%4\n",
      "   IPv4-����. . . . . . . . . . . . : 192.168.0.105\n",
      "   ��᪠ ����� . . . . . . . . . . : 255.255.255.0\n",
      "   �᭮���� ��. . . . . . . . . : 192.168.0.1\n",
      "\n",
      "������ Ethernet ��⥢�� ������祭�� Bluetooth:\n",
      "\n",
      "   ����ﭨ� �।�. . . . . . . . : �।� ��।�� ������㯭�.\n",
      "   DNS-���䨪� ������祭�� . . . . . : \n"
     ]
    }
   ],
   "source": [
    "! ipconfig"
   ]
  },
  {
   "cell_type": "code",
   "execution_count": 74,
   "metadata": {
    "vscode": {
     "languageId": "bat"
    }
   },
   "outputs": [
    {
     "name": "stdout",
     "output_type": "stream",
     "text": [
      "\n",
      "����� ����⠬� � google.com [64.233.161.139] � 32 ���⠬� ������:\n",
      "�⢥� �� 64.233.161.139: �᫮ ����=32 �६�=67�� TTL=54\n",
      "�⢥� �� 64.233.161.139: �᫮ ����=32 �६�=67�� TTL=54\n",
      "�⢥� �� 64.233.161.139: �᫮ ����=32 �६�=67�� TTL=54\n",
      "�⢥� �� 64.233.161.139: �᫮ ����=32 �६�=67�� TTL=54\n",
      "\n",
      "����⨪� Ping ��� 64.233.161.139:\n",
      "    ����⮢: ��ࠢ���� = 4, ����祭� = 4, ����ﭮ = 0\n",
      "    (0% �����)\n",
      "�ਡ����⥫쭮� �६� �ਥ��-��।�� � ��:\n",
      "    �������쭮� = 67�ᥪ, ���ᨬ��쭮� = 67 �ᥪ, �।��� = 67 �ᥪ\n"
     ]
    }
   ],
   "source": [
    "! ping google.com"
   ]
  },
  {
   "cell_type": "code",
   "execution_count": 75,
   "metadata": {},
   "outputs": [],
   "source": [
    "def find_in_interval(x, y, z, a, b):\n",
    "    if x >= a and x <= b:\n",
    "        print('Число x принадлежит интервалу (a;b)')\n",
    "    if y >= a and y <= b:\n",
    "        print('Число y принадлежит интервалу (a;b)') \n",
    "    if z >= a and z <= b:\n",
    "        print('Число z принадлежит интервалу (a;b)')\n",
    "    else:\n",
    "        print('Ни одно из чисел не принадлежит интервалу (a;b)')"
   ]
  },
  {
   "cell_type": "code",
   "execution_count": 76,
   "metadata": {},
   "outputs": [
    {
     "name": "stdout",
     "output_type": "stream",
     "text": [
      "Число x принадлежит интервалу (a;b)\n",
      "Число z принадлежит интервалу (a;b)\n"
     ]
    }
   ],
   "source": [
    "find_in_interval(1, 90, 5, 0, 10)"
   ]
  },
  {
   "cell_type": "code",
   "execution_count": 81,
   "metadata": {},
   "outputs": [],
   "source": [
    "import random\n",
    "\n",
    "def get_random_numbers():\n",
    "    for _ in range(20):\n",
    "        print(random.randint(0, 10))"
   ]
  },
  {
   "cell_type": "code",
   "execution_count": 82,
   "metadata": {},
   "outputs": [
    {
     "name": "stdout",
     "output_type": "stream",
     "text": [
      "8\n",
      "7\n",
      "5\n",
      "2\n",
      "8\n",
      "0\n",
      "8\n",
      "8\n",
      "7\n",
      "0\n",
      "8\n",
      "6\n",
      "4\n",
      "8\n",
      "2\n",
      "1\n",
      "5\n",
      "10\n",
      "0\n",
      "0\n"
     ]
    }
   ],
   "source": [
    "get_random_numbers()"
   ]
  },
  {
   "cell_type": "code",
   "execution_count": 83,
   "metadata": {},
   "outputs": [],
   "source": [
    "def find_sum(arr: list):\n",
    "    sum = 0\n",
    "    for e in arr:\n",
    "        sum += e\n",
    "    return sum"
   ]
  },
  {
   "cell_type": "code",
   "execution_count": 84,
   "metadata": {},
   "outputs": [
    {
     "data": {
      "text/plain": [
       "98"
      ]
     },
     "execution_count": 84,
     "metadata": {},
     "output_type": "execute_result"
    }
   ],
   "source": [
    "find_sum([8, 7, 5, 2, 8, 3, 8, 8, 7, 0, 8, 6, 4, 3, 2, 1, 5, 10, 0, 3])"
   ]
  }
 ],
 "metadata": {
  "kernelspec": {
   "display_name": "Python 3",
   "language": "python",
   "name": "python3"
  },
  "language_info": {
   "codemirror_mode": {
    "name": "ipython",
    "version": 3
   },
   "file_extension": ".py",
   "mimetype": "text/x-python",
   "name": "python",
   "nbconvert_exporter": "python",
   "pygments_lexer": "ipython3",
   "version": "3.12.6"
  }
 },
 "nbformat": 4,
 "nbformat_minor": 2
}
