{
 "cells": [
  {
   "cell_type": "code",
   "execution_count": 2,
   "metadata": {},
   "outputs": [],
   "source": [
    "import pandas as pd\n",
    "from sklearn.model_selection import train_test_split\n",
    "from sklearn.neighbors import KNeighborsRegressor\n",
    "from sklearn.linear_model import LinearRegression, Ridge, Lasso, LogisticRegression\n",
    "from sklearn.datasets import load_diabetes, load_linnerud"
   ]
  },
  {
   "cell_type": "code",
   "execution_count": null,
   "metadata": {},
   "outputs": [],
   "source": [
    "diabetes = load_diabetes()\n",
    "X_diabetes, y_diabetes = diabetes.data, diabetes.target\n",
    "\n",
    "linnerud = load_linnerud()\n",
    "X_linnerud, y_linnerud = linnerud.data, linnerud.target"
   ]
  },
  {
   "cell_type": "code",
   "execution_count": 4,
   "metadata": {},
   "outputs": [
    {
     "name": "stdout",
     "output_type": "stream",
     "text": [
      "                  0             1             2             3             4  \\\n",
      "count  4.420000e+02  4.420000e+02  4.420000e+02  4.420000e+02  4.420000e+02   \n",
      "mean  -2.511817e-19  1.230790e-17 -2.245564e-16 -4.797570e-17 -1.381499e-17   \n",
      "std    4.761905e-02  4.761905e-02  4.761905e-02  4.761905e-02  4.761905e-02   \n",
      "min   -1.072256e-01 -4.464164e-02 -9.027530e-02 -1.123988e-01 -1.267807e-01   \n",
      "25%   -3.729927e-02 -4.464164e-02 -3.422907e-02 -3.665608e-02 -3.424784e-02   \n",
      "50%    5.383060e-03 -4.464164e-02 -7.283766e-03 -5.670422e-03 -4.320866e-03   \n",
      "75%    3.807591e-02  5.068012e-02  3.124802e-02  3.564379e-02  2.835801e-02   \n",
      "max    1.107267e-01  5.068012e-02  1.705552e-01  1.320436e-01  1.539137e-01   \n",
      "\n",
      "                  5             6             7             8             9  \n",
      "count  4.420000e+02  4.420000e+02  4.420000e+02  4.420000e+02  4.420000e+02  \n",
      "mean   3.918434e-17 -5.777179e-18 -9.042540e-18  9.293722e-17  1.130318e-17  \n",
      "std    4.761905e-02  4.761905e-02  4.761905e-02  4.761905e-02  4.761905e-02  \n",
      "min   -1.156131e-01 -1.023071e-01 -7.639450e-02 -1.260971e-01 -1.377672e-01  \n",
      "25%   -3.035840e-02 -3.511716e-02 -3.949338e-02 -3.324559e-02 -3.317903e-02  \n",
      "50%   -3.819065e-03 -6.584468e-03 -2.592262e-03 -1.947171e-03 -1.077698e-03  \n",
      "75%    2.984439e-02  2.931150e-02  3.430886e-02  3.243232e-02  2.791705e-02  \n",
      "max    1.987880e-01  1.811791e-01  1.852344e-01  1.335973e-01  1.356118e-01  \n",
      "               0           1          2\n",
      "count  20.000000   20.000000   20.00000\n",
      "mean    9.450000  145.550000   70.30000\n",
      "std     5.286278   62.566575   51.27747\n",
      "min     1.000000   50.000000   25.00000\n",
      "25%     4.750000  101.000000   39.50000\n",
      "50%    11.500000  122.500000   54.00000\n",
      "75%    13.250000  210.000000   85.25000\n",
      "max    17.000000  251.000000  250.00000\n"
     ]
    }
   ],
   "source": [
    "print(pd.DataFrame(X_diabetes).describe())\n",
    "print(pd.DataFrame(X_linnerud).describe())"
   ]
  },
  {
   "cell_type": "code",
   "execution_count": 16,
   "metadata": {},
   "outputs": [
    {
     "name": "stdout",
     "output_type": "stream",
     "text": [
      "Коэффициент детерминации для датасета diabetes\n",
      "KNeighborsRegressor R2: 0.3213026740575181\n",
      "LinearRegression R2: 0.4772897164322617\n",
      "Ridge R2: 0.4233440269603015\n",
      "Lasso R2: 0.4859194402036221\n"
     ]
    }
   ],
   "source": [
    "X_train, X_test, y_train, y_test = train_test_split(X_diabetes, y_diabetes, test_size=0.3, random_state=42)\n",
    "\n",
    "print('Коэффициент детерминации для датасета diabetes')\n",
    "\n",
    "knn_regressor = KNeighborsRegressor(n_neighbors=3)\n",
    "knn_regressor.fit(X_train, y_train)\n",
    "print(\"KNeighborsRegressor R2:\", knn_regressor.score(X_test, y_test))\n",
    "\n",
    "linear_regressor = LinearRegression()\n",
    "linear_regressor.fit(X_train, y_train)\n",
    "print(\"LinearRegression R2:\", linear_regressor.score(X_test, y_test))\n",
    "\n",
    "ridge_regressor = Ridge(alpha=1.0)\n",
    "ridge_regressor.fit(X_train, y_train)\n",
    "print(\"Ridge R2:\", ridge_regressor.score(X_test, y_test))\n",
    "\n",
    "lasso_regressor = Lasso(alpha=0.1)\n",
    "lasso_regressor.fit(X_train, y_train)\n",
    "print(\"Lasso R2:\", lasso_regressor.score(X_test, y_test))\n"
   ]
  },
  {
   "cell_type": "code",
   "execution_count": 51,
   "metadata": {},
   "outputs": [
    {
     "name": "stdout",
     "output_type": "stream",
     "text": [
      "Датасет diabetes:\n",
      "Лучшее значение n_neighbors для KNeighborsRegressor: {'n_neighbors': 10}\n",
      "Точность для KNeighborsRegressor: 0.38221060862839773\n",
      "Лучшее значение alpha для Ridge: {'alpha': 0.1}\n",
      "Точность для Ridge: 0.4508506334242748\n",
      "Лучшее значение alpha для Lasso: {'alpha': 0.01}\n",
      "Точность для Lasso: 0.4525820024533835\n",
      "Лучшее значение C для LogisticRegression: {'C': 100.0}\n",
      "Точность для LogisticRegression: 0.013061872025383395\n",
      "Точность для LinearRegression: 0.4522814753909528\n"
     ]
    }
   ],
   "source": [
    "from sklearn.model_selection import GridSearchCV, cross_val_score\n",
    "\n",
    "print('Датасет diabetes:')\n",
    "\n",
    "knn_params = {'n_neighbors': [1, 3, 5, 7, 10]} \n",
    "knn_search = GridSearchCV(KNeighborsRegressor(), param_grid=knn_params, cv=5)\n",
    "knn_search.fit(X_train, y_train)\n",
    "print(\"Лучшее значение n_neighbors для KNeighborsRegressor:\", knn_search.best_params_)\n",
    "print(\"Точность для KNeighborsRegressor:\", knn_search.best_score_)\n",
    "\n",
    "ridge_params = {'alpha': [0.1, 1.0, 10.0]} \n",
    "ridge_search = GridSearchCV(Ridge(), param_grid=ridge_params, cv=5)\n",
    "ridge_search.fit(X_train, y_train)\n",
    "print(\"Лучшее значение alpha для Ridge:\", ridge_search.best_params_)\n",
    "print(\"Точность для Ridge:\", ridge_search.best_score_)\n",
    "\n",
    "lasso_params = {'alpha': [0.01, 0.1, 1.0, 10.0]}  \n",
    "lasso_search = GridSearchCV(Lasso(max_iter=10000), param_grid=lasso_params, cv=5)\n",
    "lasso_search.fit(X_train, y_train)\n",
    "print(\"Лучшее значение alpha для Lasso:\", lasso_search.best_params_)\n",
    "print(\"Точность для Lasso:\", lasso_search.best_score_)\n",
    "\n",
    "logreg_params = {'C': [0.01, 0.1, 1.0, 10.0, 100.0]} \n",
    "logreg_search = GridSearchCV(LogisticRegression(max_iter=10000), param_grid=logreg_params, cv=5)\n",
    "logreg_search.fit(X_train, y_train)\n",
    "print(\"Лучшее значение C для LogisticRegression:\", logreg_search.best_params_)\n",
    "print(\"Точность для LogisticRegression:\", logreg_search.best_score_)",
    "\n",
    "# Linear Regression (без гиперпараметров)\n",
    "lin_reg = LinearRegression()\n",
    "lin_reg_scores = cross_val_score(lin_reg, X_train, y_train, cv=5)\n",
    "print(\"Точность для LinearRegression:\", lin_reg_scores.mean())\n"
   ]
  },
  {
   "cell_type": "code",
   "execution_count": 37,
   "metadata": {},
   "outputs": [
    {
     "name": "stdout",
     "output_type": "stream",
     "text": [
      "Коэффициент детерминации для датасета linnerud\n",
      "KNeighborsRegressor R2: -0.493222205958987\n",
      "LinearRegression R2: -0.677586078290422\n",
      "Ridge R2: -0.6763909533736495\n",
      "Lasso R2: -0.6754642608236038\n"
     ]
    }
   ],
   "source": [
    "X_train2, X_test2, y_train2, y_test2 = train_test_split(X_linnerud, y_linnerud, test_size=0.3, random_state=42)\n",
    "\n",
    "print('Датасет linnerud:')\n",
    "print('-' * 100)\n",
    "print()\n",
    "\n",
    "res = [0, -10000]\n",
    "\n",
    "print('Точность для KNeighborsRegressor:')\n",
    "for n in [1, 3, 5, 7, 10]:\n",
    "    knn_regressor = KNeighborsRegressor(n_neighbors=n)\n",
    "    knn_regressor.fit(X_train2, y_train2)\n",
    "    score = knn_regressor.score(X_test2, y_test2)\n",
    "    print(f'n_neighbours = {n}: ', score)\n",
    "    if score > res[1]:\n",
    "        res[0], res[1] = n, score\n",
    "\n",
    "print(f'\\nЛучшая точность = {res[0]} при n = {res[1]}\\n')\n",
    "print('-' * 100)\n",
    "\n",
    "res = [0, -10000]\n",
    "print('Точность для Ridge:')\n",
    "for n in [0.1, 1.0, 10.0]:\n",
    "    ridge_regressor = Ridge(alpha=n)\n",
    "    ridge_regressor.fit(X_train2, y_train2)\n",
    "    score = ridge_regressor.score(X_test2, y_test2)\n",
    "    print(f'alpha = {n}: ', score)\n",
    "    if score > res[1]:\n",
    "        res[0], res[1] = n, score\n",
    "\n",
    "print(f'\\nЛучшая точность = {res[0]} при alpha = {res[1]}\\n')\n",
    "print('-' * 100)\n",
    "\n",
    "res = [0, -10000]\n",
    "print('Точность для Lasso:')\n",
    "for n in [0.01, 0.1, 1.0, 10.0]:\n",
    "    lasso_regressor = Lasso(alpha=n)\n",
    "    lasso_regressor.fit(X_train2, y_train2)\n",
    "    score = lasso_regressor.score(X_test2, y_test2)\n",
    "    print(f'alpha = {n}: ', score)\n",
    "    if score > res[1]:\n",
    "        res[0], res[1] = n, score\n",
    "\n",
    "print(f'\\nЛучшая точность = {res[0]} при alpha = {res[1]}\\n')\n",
    "print('-' * 100)\n",
    "\n",
    "res = [0, -10000]\n",
    "print('Точность для LogisticRegression:')\n",
    "for n in [0.01, 0.1, 1.0, 10.0, 100.0]:\n",
    "    logreg = LogisticRegression(C=n, max_iter=10000)\n",
    "    logreg.fit(X_train2, y_train2[:, 0])\n",
    "    score = logreg.score(X_test2, y_test2[:, 0])\n",
    "    print(f'C = {n}: ', score)\n",
    "    if score > res[1]:\n",
    "        res[0], res[1] = n, score\n",
    "\n",
    "print(f'\\nЛучшая точность = {res[0]} при C = {res[1]}\\n')\n",
    "print('-' * 100)\n",
    "\n",
    "linreg = LinearRegression()\n",
    "linreg.fit(X_train2, y_train2)\n",
    "print('Точность для LinearRegression:', linreg.score(X_test2, y_test2))\n"
   ]
  },
  {
   "cell_type": "code",
   "execution_count": 50,
   "metadata": {},
   "outputs": [
    {
     "name": "stdout",
     "output_type": "stream",
     "text": [
      "Датасет linnerud:\n",
      "Лучшее значение n_neighbors для KNeighborsRegressor: {'n_neighbors': 7}\n",
      "Точность для KNeighborsRegressor: -2.3701769671487227\n",
      "Лучшее значение alpha для Ridge: {'alpha': 10.0}\n",
      "Точность для Ridge: -5.218283360806057\n",
      "Лучшее значение alpha для Lasso: {'alpha': 10.0}\n",
      "Точность для Lasso: -3.030421793823458\n",
      "Точность для LogisticRegression: 0.07142857142857142\n",
      "Точность для LinearRegression: 0.4522814753909528\n"
     ]
    },
    {
     "name": "stdout",
     "output_type": "stream",
     "text": [
      "Лучшее значение C для LogisticRegression: {'C': 0.01}\n",
      "Точность для LogisticRegression: 0.07142857142857142\n"
     ]
    }
   ],
   "source": [
    "from sklearn.model_selection import GridSearchCV\n",
    "\n",
    "print('Датасет linnerud:')\n",
    "\n",
    "knn_params = {'n_neighbors': [1, 3, 5, 7, 10]} \n",
    "knn_search = GridSearchCV(KNeighborsRegressor(), param_grid=knn_params, cv=5)\n",
    "knn_search.fit(X_train2, y_train2)\n",
    "print(\"Лучшее значение n_neighbors для KNeighborsRegressor:\", knn_search.best_params_)\n",
    "print(\"Точность для KNeighborsRegressor:\", knn_search.best_score_)\n",
    "\n",
    "ridge_params = {'alpha': [0.1, 1.0, 10.0]} \n",
    "ridge_search = GridSearchCV(Ridge(), param_grid=ridge_params, cv=5)\n",
    "ridge_search.fit(X_train2, y_train2)\n",
    "print(\"Лучшее значение alpha для Ridge:\", ridge_search.best_params_)\n",
    "print(\"Точность для Ridge:\", ridge_search.best_score_)\n",
    "\n",
    "lasso_params = {'alpha': [0.01, 0.1, 1.0, 10.0]}  \n",
    "lasso_search = GridSearchCV(Lasso(max_iter=10000), param_grid=lasso_params, cv=5)\n",
    "lasso_search.fit(X_train2, y_train2)\n",
    "print(\"Лучшее значение alpha для Lasso:\", lasso_search.best_params_)\n",
    "print(\"Точность для Lasso:\", lasso_search.best_score_)\n",
    "\n",
    "logreg_params = {'C': [0.01, 0.1, 1.0, 10.0, 100.0]} \n",
    "logreg_search = GridSearchCV(LogisticRegression(max_iter=10000), param_grid=logreg_params, cv=2)\n",
    "logreg_search.fit(X_train2, y_train2[:, 0])\n",
    "print(\"Лучшее значение C для LogisticRegression:\", logreg_search.best_params_)\n",
    "print(\"Точность для LogisticRegression:\", logreg_search.best_score_)\n",
    "\n",
    "# Linear Regression (без гиперпараметров)\n",
    "lin_reg = LinearRegression()\n",
    "lin_reg_scores = cross_val_score(lin_reg, X_train2, y_train2, cv=5)\n",
    "print(\"Точность для LinearRegression:\", lin_reg_scores.mean())\n"
   ]
  },
  {
   "cell_type": "markdown",
   "metadata": {},
   "source": [
    "## Выводы\n",
    "В результате выполнения данной работы были получены такие результаты:\n",
    "\n",
    "**1. Для датасета diabetes: \n**",
    "\n",
    "Лучшей моделью с наибольшей точностью оказалась модель Lasso со значением alpha=0.01.\n",
    "Далее следуют LinearRegression, Ridge, KNN.\n",
    "Наихудший результат показала модель LogisticRegression. Скорее всего из-за того что она предназначена для задач классификации, тогда как датасет diabetes больше подходит для регресссионных моделей.\n",
    "\n",
    "2 Для датасета linnerud: \n",
    "\n" 
   ]
  }
 ],
 "metadata": {
  "kernelspec": {
   "display_name": "Python 3",
   "language": "python",
   "name": "python3"
  },
  "language_info": {
   "codemirror_mode": {
    "name": "ipython",
    "version": 3
   },
   "file_extension": ".py",
   "mimetype": "text/x-python",
   "name": "python",
   "nbconvert_exporter": "python",
   "pygments_lexer": "ipython3",
   "version": "3.12.6"
  }
 },
 "nbformat": 4,
 "nbformat_minor": 2
}
