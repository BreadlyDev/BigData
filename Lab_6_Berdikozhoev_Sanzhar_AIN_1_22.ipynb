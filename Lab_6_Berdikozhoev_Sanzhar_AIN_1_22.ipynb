{
 "cells": [
  {
   "cell_type": "code",
   "execution_count": 6,
   "metadata": {},
   "outputs": [],
   "source": [
    "from sklearn.datasets import load_digits\n",
    "from sklearn.model_selection import train_test_split, cross_val_score, KFold, ShuffleSplit, GridSearchCV\n",
    "from sklearn.svm import SVC\n",
    "from sklearn.ensemble import RandomForestClassifier\n",
    "from sklearn.metrics import classification_report, confusion_matrix, roc_auc_score, accuracy_score"
   ]
  },
  {
   "cell_type": "code",
   "execution_count": 3,
   "metadata": {},
   "outputs": [],
   "source": [
    "dataset = load_digits()\n",
    "X, y = dataset.data, dataset.target\n",
    "\n",
    "model = RandomForestClassifier(random_state=42)"
   ]
  },
  {
   "cell_type": "code",
   "execution_count": 4,
   "metadata": {},
   "outputs": [
    {
     "name": "stdout",
     "output_type": "stream",
     "text": [
      "Средняя правильность перекрестной проверки: 0.9394\n"
     ]
    }
   ],
   "source": [
    "cv_scores = cross_val_score(model, X, y, cv=5, scoring='accuracy')\n",
    "print(f\"Средняя правильность перекрестной проверки: {cv_scores.mean():.4f}\")"
   ]
  },
  {
   "cell_type": "code",
   "execution_count": 5,
   "metadata": {},
   "outputs": [
    {
     "name": "stdout",
     "output_type": "stream",
     "text": [
      "Средняя правильность перекрестной проверки (kfold=5): 0.9394\n",
      "Средняя правильность перекрестной проверки (cv=10): 0.9494\n",
      "Средняя правильность перекрестной проверки (kfold=10): 0.9516\n"
     ]
    }
   ],
   "source": [
    "kfold5 = KFold(n_splits=5)\n",
    "kfold10 = KFold(n_splits=10)\n",
    "\n",
    "cv_scores = cross_val_score(model, X, y, cv=kfold5, scoring='accuracy')\n",
    "print(f\"Средняя правильность перекрестной проверки (kfold=5): {cv_scores.mean():.4f}\")\n",
    "\n",
    "cv_scores = cross_val_score(model, X, y, cv=10, scoring='accuracy')\n",
    "print(f\"Средняя правильность перекрестной проверки (cv=10): {cv_scores.mean():.4f}\")\n",
    "\n",
    "cv_scores = cross_val_score(model, X, y, cv=kfold10, scoring='accuracy')\n",
    "print(f\"Средняя правильность перекрестной проверки (kfold=10): {cv_scores.mean():.4f}\")"
   ]
  },
  {
   "cell_type": "code",
   "execution_count": 6,
   "metadata": {},
   "outputs": [
    {
     "name": "stdout",
     "output_type": "stream",
     "text": [
      "Средняя правильность перекрестной проверки (kfold=5, shuffle=True): 0.9755\n"
     ]
    }
   ],
   "source": [
    "kfold5 = KFold(n_splits=5, shuffle=True, random_state=42)\n",
    "\n",
    "cv_scores = cross_val_score(model, X, y, cv=kfold5, scoring='accuracy')\n",
    "print(f\"Средняя правильность перекрестной проверки (kfold=5, shuffle=True): {cv_scores.mean():.4f}\")"
   ]
  },
  {
   "cell_type": "code",
   "execution_count": 7,
   "metadata": {},
   "outputs": [
    {
     "name": "stdout",
     "output_type": "stream",
     "text": [
      "Средняя правильность перекрестной проверки (shuffle_split=10): 0.9680\n"
     ]
    }
   ],
   "source": [
    "shuffle_split = ShuffleSplit(test_size=.5, train_size=.5, n_splits=10)\n",
    "\n",
    "\n",
    "cv_scores = cross_val_score(model, X, y, cv=shuffle_split, scoring='accuracy')\n",
    "print(f\"Средняя правильность перекрестной проверки (shuffle_split=10): {cv_scores.mean():.4f}\")"
   ]
  },
  {
   "cell_type": "code",
   "execution_count": 12,
   "metadata": {},
   "outputs": [
    {
     "name": "stdout",
     "output_type": "stream",
     "text": [
      "Наилучшее значение правильности: 0.9911\n",
      "Наилучшие значения параметров: {'C': 10, 'gamma': 0.001}\n"
     ]
    }
   ],
   "source": [
    "X_train, X_test, y_train, y_test = train_test_split(X, y, random_state=42)\n",
    "\n",
    "best_score = 0\n",
    "\n",
    "for gamma in [0.001, 0.01, 0.1, 1, 10, 100]:\n",
    "    for C in [0.001, 0.01, 0.1, 1, 10, 100]:\n",
    "        svm = SVC(gamma=gamma, C=C)\n",
    "        svm.fit(X_train, y_train)\n",
    "        score = svm.score(X_test, y_test)\n",
    "            \n",
    "        if score > best_score:\n",
    "            best_score = score\n",
    "            best_parameters = {'C': C, 'gamma': gamma}\n",
    "            \n",
    "print(f'Наилучшее значение правильности: {best_score:.4f}')\n",
    "print(f'Наилучшие значения параметров: {best_parameters}')"
   ]
  },
  {
   "cell_type": "code",
   "execution_count": 13,
   "metadata": {},
   "outputs": [
    {
     "name": "stdout",
     "output_type": "stream",
     "text": [
      "Лучшее значение правильности на проверочном наборе: 0.9911\n",
      "Наилучшие значения параметров: {'C': 10, 'gamma': 0.001}\n",
      "Правильность на тестовом наборе с наилучшими параметрами: 0.9933\n"
     ]
    }
   ],
   "source": [
    "X_train_val, X_test, y_train_val, y_test = train_test_split(X, y, random_state=0)\n",
    "\n",
    "X_train, X_valid, y_train, y_valid = train_test_split(X, y, random_state=42)\n",
    "\n",
    "best_score = 0\n",
    "\n",
    "for gamma in [0.001, 0.01, 0.1, 1, 10, 100]:\n",
    "    for C in [0.001, 0.01, 0.1, 1, 10, 100]:\n",
    "        svm = SVC(gamma=gamma, C=C)\n",
    "        svm.fit(X_train, y_train)\n",
    "        score = svm.score(X_valid, y_valid)\n",
    "            \n",
    "        if score > best_score:\n",
    "            best_score = score\n",
    "            best_parameters = {'C': C, 'gamma': gamma}\n",
    "            \n",
    "svm = SVC(**best_parameters)\n",
    "svm.fit(X_train_val, y_train_val)\n",
    "test_score = svm.score(X_test, y_test)\n",
    "            \n",
    "print(f'Лучшее значение правильности на проверочном наборе: {best_score:.4f}')\n",
    "print(f'Наилучшие значения параметров: {best_parameters}')\n",
    "print(f'Правильность на тестовом наборе с наилучшими параметрами: {test_score:.4f}')"
   ]
  },
  {
   "cell_type": "code",
   "execution_count": 18,
   "metadata": {},
   "outputs": [
    {
     "name": "stdout",
     "output_type": "stream",
     "text": [
      "Правильность на тестовом наборе: 0.9911\n",
      "Наилучшие значения параметров: {'C': 10, 'gamma': 0.001}\n",
      "Наилучшее значение кросс-валидационной правильности: 0.9889\n",
      "Наилучшая модель:\n",
      "SVC(C=10, gamma=0.001)\n"
     ]
    }
   ],
   "source": [
    "param_grid = {\n",
    "    'C': [0.001, 0.01, 0.1, 1, 10, 100],\n",
    "    'gamma': [0.001, 0.01, 0.1, 1, 10, 100],\n",
    "}\n",
    "X_train, X_test, y_train, y_test = train_test_split(X, y, random_state=42)\n",
    "\n",
    "grid_search = GridSearchCV(SVC(), param_grid, cv=5)\n",
    "grid_search.fit(X_train, y_train)\n",
    "\n",
    "score = grid_search.score(X_test, y_test)\n",
    "print(f'Правильность на тестовом наборе: {score:.4f}')\n",
    "\n",
    "print(f'Наилучшие значения параметров: {grid_search.best_params_}')\n",
    "print(f'Наилучшее значение кросс-валидационной правильности: {grid_search.best_score_:.4f}')\n",
    "\n",
    "print(f'Наилучшая модель:\\n{grid_search.best_estimator_}')"
   ]
  },
  {
   "cell_type": "code",
   "execution_count": null,
   "metadata": {},
   "outputs": [
    {
     "name": "stdout",
     "output_type": "stream",
     "text": [
      "\n",
      "Отчет классификации:\n",
      "              precision    recall  f1-score   support\n",
      "\n",
      "           0       1.00      0.98      0.99        43\n",
      "           1       0.95      1.00      0.97        37\n",
      "           2       1.00      1.00      1.00        38\n",
      "           3       1.00      0.93      0.97        46\n",
      "           4       0.98      1.00      0.99        55\n",
      "           5       0.95      0.98      0.97        59\n",
      "           6       0.98      0.98      0.98        45\n",
      "           7       0.98      0.98      0.98        41\n",
      "           8       0.95      0.95      0.95        38\n",
      "           9       0.98      0.96      0.97        48\n",
      "\n",
      "    accuracy                           0.98       450\n",
      "   macro avg       0.98      0.98      0.98       450\n",
      "weighted avg       0.98      0.98      0.98       450\n",
      "\n",
      "\n",
      "Матрица ошибок:\n",
      "[[42  0  0  0  1  0  0  0  0  0]\n",
      " [ 0 37  0  0  0  0  0  0  0  0]\n",
      " [ 0  0 38  0  0  0  0  0  0  0]\n",
      " [ 0  0  0 43  0  1  0  0  2  0]\n",
      " [ 0  0  0  0 55  0  0  0  0  0]\n",
      " [ 0  0  0  0  0 58  1  0  0  0]\n",
      " [ 0  0  0  0  0  1 44  0  0  0]\n",
      " [ 0  0  0  0  0  0  0 40  0  1]\n",
      " [ 0  2  0  0  0  0  0  0 36  0]\n",
      " [ 0  0  0  0  0  1  0  1  0 46]]\n",
      "\n",
      "ROC-AUC: 0.9996\n",
      "Точность: 0.9756\n"
     ]
    }
   ],
   "source": [
    "target_names = [str(i) for i in range(len(dataset.target_names))]\n",
    "\n",
    "print(\"\\nОтчет классификации:\")\n",
    "print(classification_report(y_test, y_pred, target_names=target_names))\n",
    "\n",
    "conf_matrix = confusion_matrix(y_test, y_pred)\n",
    "print(\"\\nМатрица ошибок:\")\n",
    "print(conf_matrix)\n",
    "\n",
    "roc_auc = roc_auc_score(y_test, best_model.predict_proba(X_test), multi_class='ovr')\n",
    "print(f\"\\nROC-AUC: {roc_auc:.4f}\")\n",
    "\n",
    "accuracy = accuracy_score(y_test, y_pred)\n",
    "print(f\"Точность: {accuracy:.4f}\")"
   ]
  },
  {
   "cell_type": "code",
   "execution_count": 2,
   "metadata": {},
   "outputs": [
    {
     "name": "stdout",
     "output_type": "stream",
     "text": [
      "   salary     city  age vacation_prefer transport_prefer  target\n",
      "0  108721   Moscow   25       Road trip            train   Dubai\n",
      "1  177552   Berlin   50       Road trip             auto  Moscow\n",
      "2  113747   Almaty   29   Cultural trip            train   Dubai\n",
      "3   32572  Karakol   34          Skiing             bike    Rome\n",
      "4   31124  Bishkek   37   Beach holiday            train   Paris\n"
     ]
    }
   ],
   "source": [
    "import pandas as pd\n",
    "import random\n",
    "\n",
    "cities = ['Karakol', 'Bishkek', 'Almaty', 'Tashkent', 'Moscow', 'Berlin']\n",
    "vacation_types = ['Shopping', 'Beach holiday', 'Skiing', 'Cultural trip',\n",
    "                  'Adventure trip', 'Cruise', 'Road trip']\n",
    "transport_types = ['auto', 'plane', 'train', 'bus', 'boat', 'yacht', \n",
    "                   'bike', 'motorcycle', 'helicopter']\n",
    "target_cities = ['London', 'Moscow', 'Paris', 'Berlin', 'Amsterdam', \n",
    "                 'Madrid', 'Barcelona', 'Rome', 'Dubai', 'Istanbul']\n",
    "\n",
    "data = {\n",
    "    'salary': [random.randint(30000, 200000) for _ in range(1000)],\n",
    "    'city': [random.choice(cities) for _ in range(1000)],\n",
    "    'age': [random.randint(25, 65) for _ in range(1000)],\n",
    "    'vacation_prefer': [random.choice(vacation_types) for _ in range(1000)],\n",
    "    'transport_prefer': [random.choice(transport_types) for _ in range(1000)],\n",
    "    'target': [random.choice(target_cities) for _ in range(1000)]\n",
    "}\n",
    "\n",
    "df = pd.DataFrame(data)\n",
    "print(df.head()) "
   ]
  },
  {
   "cell_type": "code",
   "execution_count": 3,
   "metadata": {},
   "outputs": [
    {
     "name": "stdout",
     "output_type": "stream",
     "text": [
      "   salary  age  city_Almaty  city_Berlin  city_Bishkek  city_Karakol  \\\n",
      "0  108721   25        False        False         False         False   \n",
      "1  177552   50        False         True         False         False   \n",
      "2  113747   29         True        False         False         False   \n",
      "3   32572   34        False        False         False          True   \n",
      "4   31124   37        False        False          True         False   \n",
      "\n",
      "   city_Moscow  city_Tashkent  vacation_prefer_Adventure trip  \\\n",
      "0         True          False                           False   \n",
      "1        False          False                           False   \n",
      "2        False          False                           False   \n",
      "3        False          False                           False   \n",
      "4        False          False                           False   \n",
      "\n",
      "   vacation_prefer_Beach holiday  ...  target_Amsterdam  target_Barcelona  \\\n",
      "0                          False  ...             False             False   \n",
      "1                          False  ...             False             False   \n",
      "2                          False  ...             False             False   \n",
      "3                          False  ...             False             False   \n",
      "4                           True  ...             False             False   \n",
      "\n",
      "   target_Berlin  target_Dubai  target_Istanbul  target_London  target_Madrid  \\\n",
      "0          False          True            False          False          False   \n",
      "1          False         False            False          False          False   \n",
      "2          False          True            False          False          False   \n",
      "3          False         False            False          False          False   \n",
      "4          False         False            False          False          False   \n",
      "\n",
      "   target_Moscow  target_Paris  target_Rome  \n",
      "0          False         False        False  \n",
      "1           True         False        False  \n",
      "2          False         False        False  \n",
      "3          False         False         True  \n",
      "4          False          True        False  \n",
      "\n",
      "[5 rows x 34 columns]\n"
     ]
    }
   ],
   "source": [
    "df_encoded = pd.get_dummies(df, columns=['city', 'vacation_prefer', 'transport_prefer', 'target'])\n",
    "print(df_encoded.head())  "
   ]
  },
  {
   "cell_type": "code",
   "execution_count": 18,
   "metadata": {},
   "outputs": [],
   "source": [
    "X = df_encoded.drop(columns=[f'target_{city}' for city in target_cities])\n",
    "y = df_encoded[[f'target_{city}' for city in target_cities]].idxmax(axis=1)\n",
    "\n",
    "X_train, X_test, y_train, y_test = train_test_split(X, y, test_size=0.2, random_state=42, stratify=y)"
   ]
  },
  {
   "cell_type": "code",
   "execution_count": 25,
   "metadata": {},
   "outputs": [
    {
     "name": "stdout",
     "output_type": "stream",
     "text": [
      "Точность: 0.14\n",
      "\n",
      "Отчет классификации:\n",
      "                  precision    recall  f1-score   support\n",
      "\n",
      "target_Amsterdam       0.00      0.00      0.00        19\n",
      "target_Barcelona       0.06      0.05      0.05        19\n",
      "   target_Berlin       0.10      0.13      0.12        23\n",
      "    target_Dubai       0.09      0.06      0.07        17\n",
      " target_Istanbul       0.18      0.22      0.20        18\n",
      "   target_London       0.18      0.19      0.19        21\n",
      "   target_Madrid       0.13      0.20      0.16        20\n",
      "   target_Moscow       0.07      0.05      0.06        22\n",
      "    target_Paris       0.24      0.24      0.24        21\n",
      "     target_Rome       0.23      0.25      0.24        20\n",
      "\n",
      "        accuracy                           0.14       200\n",
      "       macro avg       0.13      0.14      0.13       200\n",
      "    weighted avg       0.13      0.14      0.13       200\n",
      "\n"
     ]
    }
   ],
   "source": [
    "model = RandomForestClassifier(random_state=42)\n",
    "model.fit(X_train, y_train)\n",
    "\n",
    "y_pred = model.predict(X_test)\n",
    "print(\"Точность:\", accuracy_score(y_test, y_pred))\n",
    "print(\"\\nОтчет классификации:\")\n",
    "print(classification_report(y_test, y_pred))\n"
   ]
  },
  {
   "cell_type": "code",
   "execution_count": 20,
   "metadata": {},
   "outputs": [
    {
     "name": "stdout",
     "output_type": "stream",
     "text": [
      "Предсказанный город отпуска: target_Moscow\n"
     ]
    }
   ],
   "source": [
    "random_sample = {\n",
    "    'salary': [random.randint(30000, 100000)],\n",
    "    'age': [random.randint(30, 65)],\n",
    "    'city_Bishkek': [1], 'city_Almaty': [0], 'city_Tashkent': [0], 'city_Astana': [0], 'city_Osh': [0],\n",
    "    'vacation_prefer_Shopping': [0], 'vacation_prefer_Beach holiday': [1], 'vacation_prefer_Skiing': [0], 'vacation_prefer_Cultural trip': [0],\n",
    "    'transport_prefer_auto': [1], 'transport_prefer_plane': [0], 'transport_prefer_train': [0], 'transport_prefer_bus': [0]\n",
    "}\n",
    "\n",
    "random_sample_df = pd.DataFrame(random_sample)\n",
    "\n",
    "missing_columns = set(X_train.columns) - set(random_sample_df.columns)\n",
    "for col in missing_columns:\n",
    "    random_sample_df[col] = 0\n",
    "\n",
    "random_sample_df = random_sample_df[X_train.columns]\n",
    "\n",
    "prediction = model.predict(random_sample_df)\n",
    "print(\"Предсказанный город отпуска:\", prediction[0])\n"
   ]
  },
  {
   "cell_type": "code",
   "execution_count": 24,
   "metadata": {},
   "outputs": [
    {
     "name": "stdout",
     "output_type": "stream",
     "text": [
      "Fitting 5 folds for each of 2048 candidates, totalling 10240 fits\n",
      "Лучшие параметры: {'bootstrap': True, 'class_weight': None, 'criterion': 'gini', 'max_depth': 20, 'min_samples_leaf': 2, 'min_samples_split': 2, 'n_estimators': 50}\n",
      "Оптимизированная точность (acc): 0.12\n",
      "\n",
      "Оптимизированный отчет о классификации (CR):\n",
      "                  precision    recall  f1-score   support\n",
      "\n",
      "target_Amsterdam       0.08      0.05      0.06        19\n",
      "target_Barcelona       0.11      0.11      0.11        19\n",
      "   target_Berlin       0.06      0.09      0.07        23\n",
      "    target_Dubai       0.00      0.00      0.00        17\n",
      " target_Istanbul       0.21      0.22      0.22        18\n",
      "   target_London       0.05      0.05      0.05        21\n",
      "   target_Madrid       0.09      0.10      0.10        20\n",
      "   target_Moscow       0.19      0.14      0.16        22\n",
      "    target_Paris       0.20      0.19      0.20        21\n",
      "     target_Rome       0.26      0.25      0.26        20\n",
      "\n",
      "        accuracy                           0.12       200\n",
      "       macro avg       0.12      0.12      0.12       200\n",
      "    weighted avg       0.13      0.12      0.12       200\n",
      "\n"
     ]
    }
   ],
   "source": [
    "param_grid = {\n",
    "    'n_estimators': [50, 100, 200, 300],  \n",
    "    'max_depth': [10, 20, 30, None],    \n",
    "    'min_samples_split': [2, 5, 10, 20], \n",
    "    'min_samples_leaf': [1, 2, 4, 8],   \n",
    "    'bootstrap': [True, False],         \n",
    "    'class_weight': [None, 'balanced'], \n",
    "    'criterion': ['gini', 'entropy'] \n",
    "}\n",
    "\n",
    "grid_search = GridSearchCV(\n",
    "    estimator=model,\n",
    "    param_grid=param_grid,\n",
    "    cv=5,  \n",
    "    scoring='accuracy',\n",
    "    n_jobs=-1,  \n",
    "    verbose=2   \n",
    ")\n",
    "grid_search.fit(X_train, y_train)\n",
    "\n",
    "print(\"Лучшие параметры:\", grid_search.best_params_)\n",
    "best_model = grid_search.best_estimator_\n",
    "\n",
    "y_pred_optimized = best_model.predict(X_test)\n",
    "print(\"Оптимизированная точность (acc):\", accuracy_score(y_test, y_pred_optimized))\n",
    "print(\"\\nОптимизированный отчет о классификации (CR):\")\n",
    "print(classification_report(y_test, y_pred_optimized))\n"
   ]
  },
  {
   "cell_type": "code",
   "execution_count": 29,
   "metadata": {},
   "outputs": [
    {
     "name": "stdout",
     "output_type": "stream",
     "text": [
      "Средняя точность перекрестной проверки: 0.126\n"
     ]
    }
   ],
   "source": [
    "cv_scores = cross_val_score(model, X, y, cv=5, scoring='accuracy')\n",
    "print(\"Средняя точность перекрестной проверки:\", cv_scores.mean())"
   ]
  },
  {
   "cell_type": "code",
   "execution_count": 30,
   "metadata": {},
   "outputs": [
    {
     "name": "stdout",
     "output_type": "stream",
     "text": [
      "Средняя правильность перекрестной проверки (kfold=5, shuffle=True): 0.1270\n"
     ]
    }
   ],
   "source": [
    "kfold5 = KFold(n_splits=5, shuffle=True, random_state=42)\n",
    "\n",
    "cv_scores = cross_val_score(model, X, y, cv=kfold5, scoring='accuracy')\n",
    "print(f\"Средняя правильность перекрестной проверки (kfold=5, shuffle=True): {cv_scores.mean():.4f}\")"
   ]
  },
  {
   "cell_type": "markdown",
   "metadata": {},
   "source": [
    "## **Лабораторная работа №6**\n",
    "### **Вывод:**\n",
    "\n",
    "В данной лабораторной работе использовался датасет **digits** и в качестве модели **RandomForestClassifier**.\n",
    "\n",
    "В первой части необходимо было обучить модель, а затем улучшить ее точность с помощью методов **перекрестной проверки**, **решетчатого поиска** и **метрик модели**.\n",
    "\n",
    "---\n",
    "\n",
    "#### Перекрестная проверка:\n",
    "\n",
    "| Тип перекрестной проверки | Точность | Параметр   \t\t  |  \n",
    "| ------------------------- | -------- | -------------------- | \n",
    "| Обычная \t\t\t  \t\t| 0.9394   | **cv=5**     \t\t  | \n",
    "| Обычная \t\t\t  \t\t| 0.9494   | **cv=10**     \t\t  | \n",
    "| Стратифицированная  \t\t| 0.9394   | **kfold=5**  \t\t  | \n",
    "| Стратифицированная  \t\t| 0.9516   | **kfold=10**  \t\t  | \n",
    "| Страт. с перестановками   | 0.9755   | **kfold=5** \t\t  | \n",
    "| С перестановками и разб.  | 0.9680   | **shuffle_split=10** | \n",
    "\n",
    "#### Решетчатый поиск:\n",
    " \n",
    "| Тип \t\t\t\t\t    | Точность | Лучшие параметры      |\n",
    "| ------------------------- | -------- | --------------------- |\n",
    "| Без валидационного набора | 0.9911   | **C=10; gamma=0.001** |\n",
    "| С валидационным набором   | 0.9933   | **C=10; gamma=0.001** | \n",
    "\n",
    "#### Метрики:\n",
    "\n",
    "Отчет классификации:\n",
    "\n",
    "              precision    recall  f1-score   support\n",
    "\n",
    "           0       1.00      0.98      0.99        43\n",
    "           1       0.95      1.00      0.97        37\n",
    "           2       1.00      1.00      1.00        38\n",
    "           3       1.00      0.93      0.97        46\n",
    "           4       0.98      1.00      0.99        55\n",
    "           5       0.95      0.98      0.97        59\n",
    "           6       0.98      0.98      0.98        45\n",
    "           7       0.98      0.98      0.98        41\n",
    "           8       0.95      0.95      0.95        38\n",
    "           9       0.98      0.96      0.97        48           \n",
    "      accuracy                         0.98       450 \n",
    "      macro avg    0.98      0.98      0.98       450\n",
    "      weighted avg 0.98      0.98      0.98       450\n",
    "\n",
    "**ROC-AUC = 0.9996** | **Accuracy = 0.9756**\n",
    "\n",
    "В целом модель показывает хорошие результаты на датасете с цифрами.\n",
    "\n",
    "---\n",
    "\n",
    "Во второй части необходимо было сгенерировать свой датасет со случайными несбалансированными данными **(salary, city, age, vacation_prefer, transport_prefer, target)** и натренировать модель уже на них. \n",
    "\n",
    "Модель должна определить город, в который скорее всего отправиться человек для проведения отдыха.\n",
    "\n",
    "---\n",
    "\n",
    "#### Часть данных:\n",
    "\n",
    "      salary     city  age vacation_prefer    transport_prefer  target\n",
    "      0  108721   Moscow   25       Road trip            train   Dubai\n",
    "      1  177552   Berlin   50       Road trip             auto  Moscow\n",
    "      2  113747   Almaty   29   Cultural trip            train   Dubai\n",
    "      3   32572  Karakol   34          Skiing             bike    Rome\n",
    "      4   31124  Bishkek   37   Beach holiday            train   Paris\n",
    "    \n",
    "#### Результаты:\n",
    "\n",
    "Отчет классификации:\n",
    "                        \n",
    "                        precision    recall  f1-score   support\n",
    "    target_Amsterdam      0.00      0.00      0.00        19\n",
    "    target_Barcelona      0.06      0.05      0.05        19\n",
    "    target_Berlin         0.10      0.13      0.12        23\n",
    "    target_Dubai          0.09      0.06      0.07        17\n",
    "    target_Istanbul       0.18      0.22      0.20        18\n",
    "    target_London         0.18      0.19      0.19        21\n",
    "    target_Madrid         0.13      0.20      0.16        20\n",
    "    target_Moscow         0.07      0.05      0.06        22\n",
    "    target_Paris          0.24      0.24      0.24        21\n",
    "    target_Rome           0.23      0.25      0.24        20\n",
    "    \n",
    "        accuracy                              0.14       200\n",
    "       macro avg          0.13      0.14      0.13       200\n",
    "    weighted avg          0.13      0.14      0.13       200\n",
    "\n",
    "**Accuracy = 0.14**\n",
    "\n",
    "На несбалансированных данных модель показывает гораздо более худшие результаты нежели на уже подготовленных. \n",
    "\n",
    "После попытки улучшения модели методом решетчатого поиска ее точность наоборот понизилась **(accuracy = 0.12)**.\n",
    "\n",
    "Метод перекрестной проверки выдает лишь немногим большую точность 0.126.\n",
    "\n",
    "Несбалансированность данных сильно ухудшает предсказательную способность модели и возможность ее улучшения."
   ]
  }
 ],
 "metadata": {
  "kernelspec": {
   "display_name": "Python 3",
   "language": "python",
   "name": "python3"
  },
  "language_info": {
   "codemirror_mode": {
    "name": "ipython",
    "version": 3
   },
   "file_extension": ".py",
   "mimetype": "text/x-python",
   "name": "python",
   "nbconvert_exporter": "python",
   "pygments_lexer": "ipython3",
   "version": "3.12.6"
  }
 },
 "nbformat": 4,
 "nbformat_minor": 2
}
